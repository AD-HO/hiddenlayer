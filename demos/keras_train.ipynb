{
 "cells": [
  {
   "cell_type": "markdown",
   "metadata": {},
   "source": [
    "# HiddenLayer Train Demo - Keras"
   ]
  },
  {
   "cell_type": "markdown",
   "metadata": {},
   "source": [
    "In this notebook, we train an MNIST classifier using transfer learning with:\n",
    "- a pre-trained VGG16 convnet for feature extraction,\n",
    "- our own 10-output sotfmax layer with cross-entropy loss (log loss) as our classifier.\n",
    "\n",
    "We use:\n",
    "- `Keras` for model training and use dropout and early stopping to prevent overfitting\n",
    "- `sklearn` to generate a confusion matrix on the validation split\n",
    "- `hiddenlayer` to validate our \"before/after\" convnet and check our progress (visualizing the confusion matrix as we go)\n",
    "\n",
    "This model only takes **~3 minutes to train** to reach 97% prediction accuracy on the validation split."
   ]
  },
  {
   "cell_type": "code",
   "execution_count": 1,
   "metadata": {},
   "outputs": [],
   "source": [
    "from __future__ import absolute_import, division, print_function\n",
    "from tensorflow.keras.layers import Flatten, Dense\n",
    "from tensorflow.keras.datasets import mnist\n",
    "from tensorflow.keras.applications.vgg16 import VGG16\n",
    "import tensorflow.keras.backend as K\n",
    "from tensorflow.keras.models import Model\n",
    "from tensorflow.keras.layers import Dense, Dropout\n",
    "from tensorflow.keras.callbacks import EarlyStopping, ModelCheckpoint, Callback\n",
    "from tensorflow.keras.utils import to_categorical\n",
    "from tensorflow.keras.optimizers import Adam\n",
    "from sklearn.metrics import confusion_matrix, accuracy_score\n",
    "import cv2\n",
    "import numpy as np\n",
    "import itertools\n",
    "from matplotlib import pyplot as plt\n",
    "\n",
    "import hiddenlayer as hl\n",
    "import hiddenlayer.transforms as ht"
   ]
  },
  {
   "cell_type": "markdown",
   "metadata": {},
   "source": [
    "## Hyperparams and constants"
   ]
  },
  {
   "cell_type": "code",
   "execution_count": 2,
   "metadata": {},
   "outputs": [],
   "source": [
    "# Mini-batch size (backprop will take a step of gradient descent every batch_size)\n",
    "batch_size = 128  \n",
    "\n",
    "# Number of epochs to train for (early stopping may shorten this schedule)\n",
    "num_epochs = 20\n",
    "\n",
    "# Adam optimizer base learning rate\n",
    "base_lr = 1e-3\n",
    "\n",
    "# The VGG16 net was trained on 244x244 images but since we're not using the fully-connect\n",
    "# layers, we can use whatever input size we want to generate the convolutional features.\n",
    "# That being said, 28x28 is too small an input for VGG16 because the last feature map of \n",
    "# the convent has a size that is 1/16th the size of the input image. If you try 28x28x3 as\n",
    "# an input size, you will get a `ValueError: Input size must be at least 48x48`\n",
    "# -> we will scale our samples to the convnet's minimum input size\n",
    "input_shape = (48, 48, 3)"
   ]
  },
  {
   "cell_type": "markdown",
   "metadata": {},
   "source": [
    "## Prepare the train/val dataset splits"
   ]
  },
  {
   "cell_type": "code",
   "execution_count": 3,
   "metadata": {},
   "outputs": [],
   "source": [
    "# Load the data using the default train/validation split\n",
    "# We would, indeed, use train_test_split if we needed a different split than the default one\n",
    "(x_train, y_train), (x_val, y_val) = mnist.load_data()\n",
    "\n",
    "# Extract image size\n",
    "assert(len(x_train.shape) == 3)\n",
    "_, x_height, x_width = x_train.shape\n",
    "\n",
    "# Extract number of classes\n",
    "assert(len(y_train.shape) == 1)\n",
    "y_classes = len(np.unique(y_train))"
   ]
  },
  {
   "cell_type": "code",
   "execution_count": 4,
   "metadata": {},
   "outputs": [
    {
     "name": "stdout",
     "output_type": "stream",
     "text": [
      "60000 train samples with size (28, 28) and range [0, 255]\n",
      "10000 val samples with size (28, 28) and range [0, 255]\n",
      "60000 train labels with range [0, 9]\n",
      "10000 val labels with range [0, 9]\n",
      "Sample size: 28x28\n",
      "Sample size: 10\n"
     ]
    }
   ],
   "source": [
    "# Sanity check\n",
    "print(f\"{x_train.shape[0]} train samples with size {x_train.shape[1:]} and range [{np.min(x_train)}, {np.max(x_train)}]\")\n",
    "print(f\"{x_val.shape[0]} val samples with size {x_val.shape[1:]} and range [{np.min(x_val)}, {np.max(x_val)}]\")\n",
    "print(f\"{y_train.shape[0]} train labels with range [{np.min(y_train)}, {np.max(y_train)}]\")\n",
    "print(f\"{y_val.shape[0]} val labels with range [{np.min(y_val)}, {np.max(y_val)}]\")\n",
    "print(f\"Sample size: {x_height}x{x_width}\")\n",
    "print(f\"Sample size: {y_classes}\")"
   ]
  },
  {
   "cell_type": "code",
   "execution_count": 5,
   "metadata": {},
   "outputs": [
    {
     "data": {
      "image/png": "[encoded data removed]",
      "text/plain": [
       "<Figure size 432x288 with 1 Axes>"
      ]
     },
     "metadata": {},
     "output_type": "display_data"
    }
   ],
   "source": [
    "# Visual check\n",
    "plt.imshow(x_train[42], cmap='gray')\n",
    "plt.show()"
   ]
  },
  {
   "cell_type": "markdown",
   "metadata": {},
   "source": [
    "## Adapt the train/val splits to the convnet input/label format requirements"
   ]
  },
  {
   "cell_type": "code",
   "execution_count": 6,
   "metadata": {},
   "outputs": [],
   "source": [
    "# Make sure the backend used by Keras uses a channels_last format\n",
    "assert(K.image_data_format() == 'channels_last')"
   ]
  },
  {
   "cell_type": "code",
   "execution_count": 7,
   "metadata": {},
   "outputs": [],
   "source": [
    "# The VGG16 backbone was trained on RGB data in the [0.,1.] range\n",
    "# -> convert data to float and perform min-max normalization\n",
    "x_train = x_train.astype('float32') / 255.\n",
    "x_val = x_val.astype('float32') / 255\n",
    "\n",
    "# The VGG16 backbone was trained on color RGB data (imagenet)\n",
    "# -> resize the samples from (#, 28, 28) to (#, input_shape[0], input_shape[1])\n",
    "if input_shape[0:2] != (x_height, x_width):\n",
    "    x_train = [cv2.resize(x, input_shape[0:2]) for x in x_train]\n",
    "    x_val = [cv2.resize(x, input_shape[0:2]) for x in x_val]\n",
    "\n",
    "# -> reshape the samples from (#, H, W) to (#, H, W, 3)\n",
    "#    by copying the \"gray\" MNIST images identically across the 3 RGB channels\n",
    "x_train = np.stack((x_train, x_train, x_train), axis=-1)\n",
    "x_val = np.stack((x_val, x_val, x_val), axis=-1)"
   ]
  },
  {
   "cell_type": "code",
   "execution_count": 8,
   "metadata": {},
   "outputs": [],
   "source": [
    "# One-hot encode labels for use by softmax with multiclass cross-entropy loss\n",
    "y_train = to_categorical(y_train, y_classes)\n",
    "y_val = to_categorical(y_val, y_classes)"
   ]
  },
  {
   "cell_type": "code",
   "execution_count": 9,
   "metadata": {},
   "outputs": [
    {
     "name": "stdout",
     "output_type": "stream",
     "text": [
      "60000 train samples with size (48, 48, 3) and range [0.0, 1.0]\n",
      "10000 val samples with size (48, 48, 3) and range [0.0, 1.0]\n",
      "60000 train labels with shape (10,)\n",
      "10000 val labels with shape (10,)\n"
     ]
    }
   ],
   "source": [
    "# Sanity check\n",
    "print(f\"{x_train.shape[0]} train samples with size {x_train.shape[1:]} and range [{np.min(x_train)}, {np.max(x_train)}]\")\n",
    "print(f\"{x_val.shape[0]} val samples with size {x_val.shape[1:]} and range [{np.min(x_val)}, {np.max(x_val)}]\")\n",
    "print(f\"{y_train.shape[0]} train labels with shape {y_train.shape[1:]}\")\n",
    "print(f\"{y_val.shape[0]} val labels with shape {y_val.shape[1:]}\")"
   ]
  },
  {
   "cell_type": "code",
   "execution_count": 10,
   "metadata": {},
   "outputs": [
    {
     "data": {
      "image/png": "[encoded data removed]",
      "text/plain": [
       "<Figure size 432x288 with 1 Axes>"
      ]
     },
     "metadata": {},
     "output_type": "display_data"
    }
   ],
   "source": [
    "# Visual check\n",
    "plt.imshow(x_train[42])\n",
    "plt.show()"
   ]
  },
  {
   "cell_type": "markdown",
   "metadata": {},
   "source": [
    "## Put the model (convnet base + classifier) together"
   ]
  },
  {
   "cell_type": "code",
   "execution_count": 11,
   "metadata": {},
   "outputs": [],
   "source": [
    "# Set the learning phase to training\n",
    "K.set_learning_phase(1)"
   ]
  },
  {
   "cell_type": "code",
   "execution_count": 12,
   "metadata": {},
   "outputs": [],
   "source": [
    "# Build the VGG16 model as a feature extractor\n",
    "convnet = VGG16(weights='imagenet', include_top=False, input_shape=input_shape)"
   ]
  },
  {
   "cell_type": "code",
   "execution_count": 13,
   "metadata": {},
   "outputs": [
    {
     "data": {
      "image/svg+xml": [
       "<?xml version=\"1.0\" encoding=\"UTF-8\" standalone=\"no\"?>\r\n",
       "<!DOCTYPE svg PUBLIC \"-//W3C//DTD SVG 1.1//EN\"\r\n",
       " \"http://www.w3.org/Graphics/SVG/1.1/DTD/svg11.dtd\">\r\n",
       "<!-- Generated by graphviz version 2.38.0 (20140413.2041)\r\n",
       " -->\r\n",
       "<!-- Title: %3 Pages: 1 -->\r\n",
       "<svg width=\"241pt\" height=\"978pt\"\r\n",
       " viewBox=\"0.00 0.00 241.00 978.00\" xmlns=\"http://www.w3.org/2000/svg\" xmlns:xlink=\"http://www.w3.org/1999/xlink\">\r\n",
       "<g id=\"graph0\" class=\"graph\" transform=\"scale(1 1) rotate(0) translate(72 942)\">\r\n",
       "<title>%3</title>\r\n",
       "<polygon fill=\"#ffffff\" stroke=\"none\" points=\"-72,36 -72,-942 169,-942 169,36 -72,36\"/>\r\n",
       "<!-- input_1 -->\r\n",
       "<g id=\"node1\" class=\"node\"><title>input_1</title>\r\n",
       "<polygon fill=\"#e8e8e8\" stroke=\"#000000\" points=\"75,-906 9,-906 9,-870 75,-870 75,-906\"/>\r\n",
       "<text text-anchor=\"start\" x=\"17\" y=\"-885\" font-family=\"Times\" font-size=\"10.00\" fill=\"#000000\">Placeholder</text>\r\n",
       "</g>\r\n",
       "<!-- 13878594012823346345 -->\r\n",
       "<g id=\"node7\" class=\"node\"><title>13878594012823346345</title>\r\n",
       "<polygon fill=\"#e8e8e8\" stroke=\"#000000\" points=\"84,-823 0,-823 0,-779 84,-779 84,-823\"/>\r\n",
       "<text text-anchor=\"start\" x=\"8\" y=\"-807\" font-family=\"Times\" font-size=\"10.00\" fill=\"#000000\">Conv3x3 &gt; Relu</text>\r\n",
       "<text text-anchor=\"start\" x=\"70\" y=\"-786\" font-family=\"Times\" font-size=\"10.00\" fill=\"#000000\">x2</text>\r\n",
       "</g>\r\n",
       "<!-- input_1&#45;&gt;13878594012823346345 -->\r\n",
       "<g id=\"edge1\" class=\"edge\"><title>input_1&#45;&gt;13878594012823346345</title>\r\n",
       "<path fill=\"none\" stroke=\"#000000\" d=\"M42,-869.799C42,-859.369 42,-845.742 42,-833.443\"/>\r\n",
       "<polygon fill=\"#000000\" stroke=\"#000000\" points=\"45.5001,-833.09 42,-823.09 38.5001,-833.09 45.5001,-833.09\"/>\r\n",
       "<text text-anchor=\"middle\" x=\"64.5\" y=\"-844\" font-family=\"Times\" font-size=\"10.00\" fill=\"#000000\">?x48x48x3</text>\r\n",
       "</g>\r\n",
       "<!-- block1_pool/MaxPool -->\r\n",
       "<g id=\"node2\" class=\"node\"><title>block1_pool/MaxPool</title>\r\n",
       "<polygon fill=\"#e8e8e8\" stroke=\"#000000\" points=\"82,-732 2,-732 2,-696 82,-696 82,-732\"/>\r\n",
       "<text text-anchor=\"start\" x=\"10\" y=\"-711\" font-family=\"Times\" font-size=\"10.00\" fill=\"#000000\">MaxPool2x2/s2</text>\r\n",
       "</g>\r\n",
       "<!-- 11762144369079371521 -->\r\n",
       "<g id=\"node8\" class=\"node\"><title>11762144369079371521</title>\r\n",
       "<polygon fill=\"#e8e8e8\" stroke=\"#000000\" points=\"84,-649 0,-649 0,-605 84,-605 84,-649\"/>\r\n",
       "<text text-anchor=\"start\" x=\"8\" y=\"-633\" font-family=\"Times\" font-size=\"10.00\" fill=\"#000000\">Conv3x3 &gt; Relu</text>\r\n",
       "<text text-anchor=\"start\" x=\"70\" y=\"-612\" font-family=\"Times\" font-size=\"10.00\" fill=\"#000000\">x2</text>\r\n",
       "</g>\r\n",
       "<!-- block1_pool/MaxPool&#45;&gt;11762144369079371521 -->\r\n",
       "<g id=\"edge3\" class=\"edge\"><title>block1_pool/MaxPool&#45;&gt;11762144369079371521</title>\r\n",
       "<path fill=\"none\" stroke=\"#000000\" d=\"M42,-695.799C42,-685.369 42,-671.742 42,-659.443\"/>\r\n",
       "<polygon fill=\"#000000\" stroke=\"#000000\" points=\"45.5001,-659.09 42,-649.09 38.5001,-659.09 45.5001,-659.09\"/>\r\n",
       "<text text-anchor=\"middle\" x=\"67\" y=\"-670\" font-family=\"Times\" font-size=\"10.00\" fill=\"#000000\">?x24x24x64</text>\r\n",
       "</g>\r\n",
       "<!-- block2_pool/MaxPool -->\r\n",
       "<g id=\"node3\" class=\"node\"><title>block2_pool/MaxPool</title>\r\n",
       "<polygon fill=\"#e8e8e8\" stroke=\"#000000\" points=\"82,-558 2,-558 2,-522 82,-522 82,-558\"/>\r\n",
       "<text text-anchor=\"start\" x=\"10\" y=\"-537\" font-family=\"Times\" font-size=\"10.00\" fill=\"#000000\">MaxPool2x2/s2</text>\r\n",
       "</g>\r\n",
       "<!-- 13219879327832885469 -->\r\n",
       "<g id=\"node9\" class=\"node\"><title>13219879327832885469</title>\r\n",
       "<polygon fill=\"#e8e8e8\" stroke=\"#000000\" points=\"84,-475 0,-475 0,-431 84,-431 84,-475\"/>\r\n",
       "<text text-anchor=\"start\" x=\"8\" y=\"-459\" font-family=\"Times\" font-size=\"10.00\" fill=\"#000000\">Conv3x3 &gt; Relu</text>\r\n",
       "<text text-anchor=\"start\" x=\"70\" y=\"-438\" font-family=\"Times\" font-size=\"10.00\" fill=\"#000000\">x3</text>\r\n",
       "</g>\r\n",
       "<!-- block2_pool/MaxPool&#45;&gt;13219879327832885469 -->\r\n",
       "<g id=\"edge5\" class=\"edge\"><title>block2_pool/MaxPool&#45;&gt;13219879327832885469</title>\r\n",
       "<path fill=\"none\" stroke=\"#000000\" d=\"M42,-521.799C42,-511.369 42,-497.742 42,-485.443\"/>\r\n",
       "<polygon fill=\"#000000\" stroke=\"#000000\" points=\"45.5001,-485.09 42,-475.09 38.5001,-485.09 45.5001,-485.09\"/>\r\n",
       "<text text-anchor=\"middle\" x=\"69.5\" y=\"-496\" font-family=\"Times\" font-size=\"10.00\" fill=\"#000000\">?x12x12x128</text>\r\n",
       "</g>\r\n",
       "<!-- block3_pool/MaxPool -->\r\n",
       "<g id=\"node4\" class=\"node\"><title>block3_pool/MaxPool</title>\r\n",
       "<polygon fill=\"#e8e8e8\" stroke=\"#000000\" points=\"82,-384 2,-384 2,-348 82,-348 82,-384\"/>\r\n",
       "<text text-anchor=\"start\" x=\"10\" y=\"-363\" font-family=\"Times\" font-size=\"10.00\" fill=\"#000000\">MaxPool2x2/s2</text>\r\n",
       "</g>\r\n",
       "<!-- 15889459412114772358 -->\r\n",
       "<g id=\"node10\" class=\"node\"><title>15889459412114772358</title>\r\n",
       "<polygon fill=\"#e8e8e8\" stroke=\"#000000\" points=\"84,-301 0,-301 0,-257 84,-257 84,-301\"/>\r\n",
       "<text text-anchor=\"start\" x=\"8\" y=\"-285\" font-family=\"Times\" font-size=\"10.00\" fill=\"#000000\">Conv3x3 &gt; Relu</text>\r\n",
       "<text text-anchor=\"start\" x=\"70\" y=\"-264\" font-family=\"Times\" font-size=\"10.00\" fill=\"#000000\">x3</text>\r\n",
       "</g>\r\n",
       "<!-- block3_pool/MaxPool&#45;&gt;15889459412114772358 -->\r\n",
       "<g id=\"edge7\" class=\"edge\"><title>block3_pool/MaxPool&#45;&gt;15889459412114772358</title>\r\n",
       "<path fill=\"none\" stroke=\"#000000\" d=\"M42,-347.799C42,-337.369 42,-323.742 42,-311.443\"/>\r\n",
       "<polygon fill=\"#000000\" stroke=\"#000000\" points=\"45.5001,-311.09 42,-301.09 38.5001,-311.09 45.5001,-311.09\"/>\r\n",
       "<text text-anchor=\"middle\" x=\"64.5\" y=\"-322\" font-family=\"Times\" font-size=\"10.00\" fill=\"#000000\">?x6x6x256</text>\r\n",
       "</g>\r\n",
       "<!-- block4_pool/MaxPool -->\r\n",
       "<g id=\"node5\" class=\"node\"><title>block4_pool/MaxPool</title>\r\n",
       "<polygon fill=\"#e8e8e8\" stroke=\"#000000\" points=\"82,-210 2,-210 2,-174 82,-174 82,-210\"/>\r\n",
       "<text text-anchor=\"start\" x=\"10\" y=\"-189\" font-family=\"Times\" font-size=\"10.00\" fill=\"#000000\">MaxPool2x2/s2</text>\r\n",
       "</g>\r\n",
       "<!-- 5291993704298252254 -->\r\n",
       "<g id=\"node11\" class=\"node\"><title>5291993704298252254</title>\r\n",
       "<polygon fill=\"#e8e8e8\" stroke=\"#000000\" points=\"84,-127 0,-127 0,-83 84,-83 84,-127\"/>\r\n",
       "<text text-anchor=\"start\" x=\"8\" y=\"-111\" font-family=\"Times\" font-size=\"10.00\" fill=\"#000000\">Conv3x3 &gt; Relu</text>\r\n",
       "<text text-anchor=\"start\" x=\"70\" y=\"-90\" font-family=\"Times\" font-size=\"10.00\" fill=\"#000000\">x3</text>\r\n",
       "</g>\r\n",
       "<!-- block4_pool/MaxPool&#45;&gt;5291993704298252254 -->\r\n",
       "<g id=\"edge9\" class=\"edge\"><title>block4_pool/MaxPool&#45;&gt;5291993704298252254</title>\r\n",
       "<path fill=\"none\" stroke=\"#000000\" d=\"M42,-173.799C42,-163.369 42,-149.742 42,-137.443\"/>\r\n",
       "<polygon fill=\"#000000\" stroke=\"#000000\" points=\"45.5001,-137.09 42,-127.09 38.5001,-137.09 45.5001,-137.09\"/>\r\n",
       "<text text-anchor=\"middle\" x=\"64.5\" y=\"-148\" font-family=\"Times\" font-size=\"10.00\" fill=\"#000000\">?x3x3x512</text>\r\n",
       "</g>\r\n",
       "<!-- block5_pool/MaxPool -->\r\n",
       "<g id=\"node6\" class=\"node\"><title>block5_pool/MaxPool</title>\r\n",
       "<polygon fill=\"#e8e8e8\" stroke=\"#000000\" points=\"82,-36 2,-36 2,-0 82,-0 82,-36\"/>\r\n",
       "<text text-anchor=\"start\" x=\"10\" y=\"-15\" font-family=\"Times\" font-size=\"10.00\" fill=\"#000000\">MaxPool2x2/s2</text>\r\n",
       "</g>\r\n",
       "<!-- 13878594012823346345&#45;&gt;block1_pool/MaxPool -->\r\n",
       "<g id=\"edge2\" class=\"edge\"><title>13878594012823346345&#45;&gt;block1_pool/MaxPool</title>\r\n",
       "<path fill=\"none\" stroke=\"#000000\" d=\"M42,-778.989C42,-767.923 42,-754.219 42,-742.336\"/>\r\n",
       "<polygon fill=\"#000000\" stroke=\"#000000\" points=\"45.5001,-742.062 42,-732.062 38.5001,-742.062 45.5001,-742.062\"/>\r\n",
       "<text text-anchor=\"middle\" x=\"67\" y=\"-753\" font-family=\"Times\" font-size=\"10.00\" fill=\"#000000\">?x48x48x64</text>\r\n",
       "</g>\r\n",
       "<!-- 11762144369079371521&#45;&gt;block2_pool/MaxPool -->\r\n",
       "<g id=\"edge4\" class=\"edge\"><title>11762144369079371521&#45;&gt;block2_pool/MaxPool</title>\r\n",
       "<path fill=\"none\" stroke=\"#000000\" d=\"M42,-604.989C42,-593.923 42,-580.219 42,-568.336\"/>\r\n",
       "<polygon fill=\"#000000\" stroke=\"#000000\" points=\"45.5001,-568.062 42,-558.062 38.5001,-568.062 45.5001,-568.062\"/>\r\n",
       "<text text-anchor=\"middle\" x=\"69.5\" y=\"-579\" font-family=\"Times\" font-size=\"10.00\" fill=\"#000000\">?x24x24x128</text>\r\n",
       "</g>\r\n",
       "<!-- 13219879327832885469&#45;&gt;block3_pool/MaxPool -->\r\n",
       "<g id=\"edge6\" class=\"edge\"><title>13219879327832885469&#45;&gt;block3_pool/MaxPool</title>\r\n",
       "<path fill=\"none\" stroke=\"#000000\" d=\"M42,-430.989C42,-419.923 42,-406.219 42,-394.336\"/>\r\n",
       "<polygon fill=\"#000000\" stroke=\"#000000\" points=\"45.5001,-394.062 42,-384.062 38.5001,-394.062 45.5001,-394.062\"/>\r\n",
       "<text text-anchor=\"middle\" x=\"69.5\" y=\"-405\" font-family=\"Times\" font-size=\"10.00\" fill=\"#000000\">?x12x12x256</text>\r\n",
       "</g>\r\n",
       "<!-- 15889459412114772358&#45;&gt;block4_pool/MaxPool -->\r\n",
       "<g id=\"edge8\" class=\"edge\"><title>15889459412114772358&#45;&gt;block4_pool/MaxPool</title>\r\n",
       "<path fill=\"none\" stroke=\"#000000\" d=\"M42,-256.989C42,-245.923 42,-232.219 42,-220.336\"/>\r\n",
       "<polygon fill=\"#000000\" stroke=\"#000000\" points=\"45.5001,-220.062 42,-210.062 38.5001,-220.062 45.5001,-220.062\"/>\r\n",
       "<text text-anchor=\"middle\" x=\"64.5\" y=\"-231\" font-family=\"Times\" font-size=\"10.00\" fill=\"#000000\">?x6x6x512</text>\r\n",
       "</g>\r\n",
       "<!-- 5291993704298252254&#45;&gt;block5_pool/MaxPool -->\r\n",
       "<g id=\"edge10\" class=\"edge\"><title>5291993704298252254&#45;&gt;block5_pool/MaxPool</title>\r\n",
       "<path fill=\"none\" stroke=\"#000000\" d=\"M42,-82.9888C42,-71.9227 42,-58.219 42,-46.3357\"/>\r\n",
       "<polygon fill=\"#000000\" stroke=\"#000000\" points=\"45.5001,-46.062 42,-36.0621 38.5001,-46.0621 45.5001,-46.062\"/>\r\n",
       "<text text-anchor=\"middle\" x=\"64.5\" y=\"-57\" font-family=\"Times\" font-size=\"10.00\" fill=\"#000000\">?x3x3x512</text>\r\n",
       "</g>\r\n",
       "</g>\r\n",
       "</svg>\r\n"
      ],
      "text/plain": [
       "<hiddenlayer.graph.Graph at 0x1a40d2b16d8>"
      ]
     },
     "execution_count": 13,
     "metadata": {},
     "output_type": "execute_result"
    }
   ],
   "source": [
    "# Visual check of the \"before\" model architecture using HiddenLayer\n",
    "hl_graph = hl.build_graph(K.get_session().graph)\n",
    "hl_graph"
   ]
  },
  {
   "cell_type": "code",
   "execution_count": 14,
   "metadata": {},
   "outputs": [],
   "source": [
    "# Build our own classifier on top of the VGG16 feature extractor using\n",
    "# two fully-connected layers with dropout and a final softmax layer\n",
    "classifier = Flatten(input_shape=convnet.output_shape[1:])(convnet.output)\n",
    "classifier = Dense(512, activation='relu')(classifier) # fc1\n",
    "classifier = Dropout(0.5)(classifier)\n",
    "classifier = Dense(512, activation='relu')(classifier) # fc2\n",
    "classifier = Dropout(0.5)(classifier)\n",
    "classifier = Dense(10, activation='softmax')(classifier) # softmax classifier for classes 0..9"
   ]
  },
  {
   "cell_type": "code",
   "execution_count": 15,
   "metadata": {},
   "outputs": [],
   "source": [
    "# Finally, put the model together\n",
    "model = Model(inputs=convnet.input, outputs=classifier)"
   ]
  },
  {
   "cell_type": "code",
   "execution_count": 16,
   "metadata": {
    "scrolled": false
   },
   "outputs": [
    {
     "data": {
      "image/svg+xml": [
       "<?xml version=\"1.0\" encoding=\"UTF-8\" standalone=\"no\"?>\r\n",
       "<!DOCTYPE svg PUBLIC \"-//W3C//DTD SVG 1.1//EN\"\r\n",
       " \"http://www.w3.org/Graphics/SVG/1.1/DTD/svg11.dtd\">\r\n",
       "<!-- Generated by graphviz version 2.38.0 (20140413.2041)\r\n",
       " -->\r\n",
       "<!-- Title: %3 Pages: 1 -->\r\n",
       "<svg width=\"241pt\" height=\"1539pt\"\r\n",
       " viewBox=\"0.00 0.00 241.00 1539.00\" xmlns=\"http://www.w3.org/2000/svg\" xmlns:xlink=\"http://www.w3.org/1999/xlink\">\r\n",
       "<g id=\"graph0\" class=\"graph\" transform=\"scale(1 1) rotate(0) translate(72 1503)\">\r\n",
       "<title>%3</title>\r\n",
       "<polygon fill=\"#ffffff\" stroke=\"none\" points=\"-72,36 -72,-1503 169,-1503 169,36 -72,36\"/>\r\n",
       "<!-- input_1 -->\r\n",
       "<g id=\"node1\" class=\"node\"><title>input_1</title>\r\n",
       "<polygon fill=\"#e8e8e8\" stroke=\"#000000\" points=\"75,-1467 9,-1467 9,-1431 75,-1431 75,-1467\"/>\r\n",
       "<text text-anchor=\"start\" x=\"17\" y=\"-1446\" font-family=\"Times\" font-size=\"10.00\" fill=\"#000000\">Placeholder</text>\r\n",
       "</g>\r\n",
       "<!-- 8490057381621808717 -->\r\n",
       "<g id=\"node14\" class=\"node\"><title>8490057381621808717</title>\r\n",
       "<polygon fill=\"#e8e8e8\" stroke=\"#000000\" points=\"84,-1384 0,-1384 0,-1340 84,-1340 84,-1384\"/>\r\n",
       "<text text-anchor=\"start\" x=\"8\" y=\"-1368\" font-family=\"Times\" font-size=\"10.00\" fill=\"#000000\">Conv3x3 &gt; Relu</text>\r\n",
       "<text text-anchor=\"start\" x=\"70\" y=\"-1347\" font-family=\"Times\" font-size=\"10.00\" fill=\"#000000\">x2</text>\r\n",
       "</g>\r\n",
       "<!-- input_1&#45;&gt;8490057381621808717 -->\r\n",
       "<g id=\"edge8\" class=\"edge\"><title>input_1&#45;&gt;8490057381621808717</title>\r\n",
       "<path fill=\"none\" stroke=\"#000000\" d=\"M42,-1430.8C42,-1420.37 42,-1406.74 42,-1394.44\"/>\r\n",
       "<polygon fill=\"#000000\" stroke=\"#000000\" points=\"45.5001,-1394.09 42,-1384.09 38.5001,-1394.09 45.5001,-1394.09\"/>\r\n",
       "<text text-anchor=\"middle\" x=\"64.5\" y=\"-1405\" font-family=\"Times\" font-size=\"10.00\" fill=\"#000000\">?x48x48x3</text>\r\n",
       "</g>\r\n",
       "<!-- block1_pool/MaxPool -->\r\n",
       "<g id=\"node2\" class=\"node\"><title>block1_pool/MaxPool</title>\r\n",
       "<polygon fill=\"#e8e8e8\" stroke=\"#000000\" points=\"82,-1293 2,-1293 2,-1257 82,-1257 82,-1293\"/>\r\n",
       "<text text-anchor=\"start\" x=\"10\" y=\"-1272\" font-family=\"Times\" font-size=\"10.00\" fill=\"#000000\">MaxPool2x2/s2</text>\r\n",
       "</g>\r\n",
       "<!-- 2045678872943866023 -->\r\n",
       "<g id=\"node15\" class=\"node\"><title>2045678872943866023</title>\r\n",
       "<polygon fill=\"#e8e8e8\" stroke=\"#000000\" points=\"84,-1210 0,-1210 0,-1166 84,-1166 84,-1210\"/>\r\n",
       "<text text-anchor=\"start\" x=\"8\" y=\"-1194\" font-family=\"Times\" font-size=\"10.00\" fill=\"#000000\">Conv3x3 &gt; Relu</text>\r\n",
       "<text text-anchor=\"start\" x=\"70\" y=\"-1173\" font-family=\"Times\" font-size=\"10.00\" fill=\"#000000\">x2</text>\r\n",
       "</g>\r\n",
       "<!-- block1_pool/MaxPool&#45;&gt;2045678872943866023 -->\r\n",
       "<g id=\"edge10\" class=\"edge\"><title>block1_pool/MaxPool&#45;&gt;2045678872943866023</title>\r\n",
       "<path fill=\"none\" stroke=\"#000000\" d=\"M42,-1256.8C42,-1246.37 42,-1232.74 42,-1220.44\"/>\r\n",
       "<polygon fill=\"#000000\" stroke=\"#000000\" points=\"45.5001,-1220.09 42,-1210.09 38.5001,-1220.09 45.5001,-1220.09\"/>\r\n",
       "<text text-anchor=\"middle\" x=\"67\" y=\"-1231\" font-family=\"Times\" font-size=\"10.00\" fill=\"#000000\">?x24x24x64</text>\r\n",
       "</g>\r\n",
       "<!-- block2_pool/MaxPool -->\r\n",
       "<g id=\"node3\" class=\"node\"><title>block2_pool/MaxPool</title>\r\n",
       "<polygon fill=\"#e8e8e8\" stroke=\"#000000\" points=\"82,-1119 2,-1119 2,-1083 82,-1083 82,-1119\"/>\r\n",
       "<text text-anchor=\"start\" x=\"10\" y=\"-1098\" font-family=\"Times\" font-size=\"10.00\" fill=\"#000000\">MaxPool2x2/s2</text>\r\n",
       "</g>\r\n",
       "<!-- 9225943956533598718 -->\r\n",
       "<g id=\"node16\" class=\"node\"><title>9225943956533598718</title>\r\n",
       "<polygon fill=\"#e8e8e8\" stroke=\"#000000\" points=\"84,-1036 0,-1036 0,-992 84,-992 84,-1036\"/>\r\n",
       "<text text-anchor=\"start\" x=\"8\" y=\"-1020\" font-family=\"Times\" font-size=\"10.00\" fill=\"#000000\">Conv3x3 &gt; Relu</text>\r\n",
       "<text text-anchor=\"start\" x=\"70\" y=\"-999\" font-family=\"Times\" font-size=\"10.00\" fill=\"#000000\">x3</text>\r\n",
       "</g>\r\n",
       "<!-- block2_pool/MaxPool&#45;&gt;9225943956533598718 -->\r\n",
       "<g id=\"edge12\" class=\"edge\"><title>block2_pool/MaxPool&#45;&gt;9225943956533598718</title>\r\n",
       "<path fill=\"none\" stroke=\"#000000\" d=\"M42,-1082.8C42,-1072.37 42,-1058.74 42,-1046.44\"/>\r\n",
       "<polygon fill=\"#000000\" stroke=\"#000000\" points=\"45.5001,-1046.09 42,-1036.09 38.5001,-1046.09 45.5001,-1046.09\"/>\r\n",
       "<text text-anchor=\"middle\" x=\"69.5\" y=\"-1057\" font-family=\"Times\" font-size=\"10.00\" fill=\"#000000\">?x12x12x128</text>\r\n",
       "</g>\r\n",
       "<!-- block3_pool/MaxPool -->\r\n",
       "<g id=\"node4\" class=\"node\"><title>block3_pool/MaxPool</title>\r\n",
       "<polygon fill=\"#e8e8e8\" stroke=\"#000000\" points=\"82,-945 2,-945 2,-909 82,-909 82,-945\"/>\r\n",
       "<text text-anchor=\"start\" x=\"10\" y=\"-924\" font-family=\"Times\" font-size=\"10.00\" fill=\"#000000\">MaxPool2x2/s2</text>\r\n",
       "</g>\r\n",
       "<!-- 8308197600167350862 -->\r\n",
       "<g id=\"node17\" class=\"node\"><title>8308197600167350862</title>\r\n",
       "<polygon fill=\"#e8e8e8\" stroke=\"#000000\" points=\"84,-862 0,-862 0,-818 84,-818 84,-862\"/>\r\n",
       "<text text-anchor=\"start\" x=\"8\" y=\"-846\" font-family=\"Times\" font-size=\"10.00\" fill=\"#000000\">Conv3x3 &gt; Relu</text>\r\n",
       "<text text-anchor=\"start\" x=\"70\" y=\"-825\" font-family=\"Times\" font-size=\"10.00\" fill=\"#000000\">x3</text>\r\n",
       "</g>\r\n",
       "<!-- block3_pool/MaxPool&#45;&gt;8308197600167350862 -->\r\n",
       "<g id=\"edge14\" class=\"edge\"><title>block3_pool/MaxPool&#45;&gt;8308197600167350862</title>\r\n",
       "<path fill=\"none\" stroke=\"#000000\" d=\"M42,-908.799C42,-898.369 42,-884.742 42,-872.443\"/>\r\n",
       "<polygon fill=\"#000000\" stroke=\"#000000\" points=\"45.5001,-872.09 42,-862.09 38.5001,-872.09 45.5001,-872.09\"/>\r\n",
       "<text text-anchor=\"middle\" x=\"64.5\" y=\"-883\" font-family=\"Times\" font-size=\"10.00\" fill=\"#000000\">?x6x6x256</text>\r\n",
       "</g>\r\n",
       "<!-- block4_pool/MaxPool -->\r\n",
       "<g id=\"node5\" class=\"node\"><title>block4_pool/MaxPool</title>\r\n",
       "<polygon fill=\"#e8e8e8\" stroke=\"#000000\" points=\"82,-771 2,-771 2,-735 82,-735 82,-771\"/>\r\n",
       "<text text-anchor=\"start\" x=\"10\" y=\"-750\" font-family=\"Times\" font-size=\"10.00\" fill=\"#000000\">MaxPool2x2/s2</text>\r\n",
       "</g>\r\n",
       "<!-- 886015063576402234 -->\r\n",
       "<g id=\"node18\" class=\"node\"><title>886015063576402234</title>\r\n",
       "<polygon fill=\"#e8e8e8\" stroke=\"#000000\" points=\"84,-688 0,-688 0,-644 84,-644 84,-688\"/>\r\n",
       "<text text-anchor=\"start\" x=\"8\" y=\"-672\" font-family=\"Times\" font-size=\"10.00\" fill=\"#000000\">Conv3x3 &gt; Relu</text>\r\n",
       "<text text-anchor=\"start\" x=\"70\" y=\"-651\" font-family=\"Times\" font-size=\"10.00\" fill=\"#000000\">x3</text>\r\n",
       "</g>\r\n",
       "<!-- block4_pool/MaxPool&#45;&gt;886015063576402234 -->\r\n",
       "<g id=\"edge16\" class=\"edge\"><title>block4_pool/MaxPool&#45;&gt;886015063576402234</title>\r\n",
       "<path fill=\"none\" stroke=\"#000000\" d=\"M42,-734.799C42,-724.369 42,-710.742 42,-698.443\"/>\r\n",
       "<polygon fill=\"#000000\" stroke=\"#000000\" points=\"45.5001,-698.09 42,-688.09 38.5001,-698.09 45.5001,-698.09\"/>\r\n",
       "<text text-anchor=\"middle\" x=\"64.5\" y=\"-709\" font-family=\"Times\" font-size=\"10.00\" fill=\"#000000\">?x3x3x512</text>\r\n",
       "</g>\r\n",
       "<!-- block5_pool/MaxPool -->\r\n",
       "<g id=\"node6\" class=\"node\"><title>block5_pool/MaxPool</title>\r\n",
       "<polygon fill=\"#e8e8e8\" stroke=\"#000000\" points=\"82,-597 2,-597 2,-561 82,-561 82,-597\"/>\r\n",
       "<text text-anchor=\"start\" x=\"10\" y=\"-576\" font-family=\"Times\" font-size=\"10.00\" fill=\"#000000\">MaxPool2x2/s2</text>\r\n",
       "</g>\r\n",
       "<!-- flatten/Reshape -->\r\n",
       "<g id=\"node7\" class=\"node\"><title>flatten/Reshape</title>\r\n",
       "<polygon fill=\"#e8e8e8\" stroke=\"#000000\" points=\"69,-514 15,-514 15,-478 69,-478 69,-514\"/>\r\n",
       "<text text-anchor=\"start\" x=\"24\" y=\"-493\" font-family=\"Times\" font-size=\"10.00\" fill=\"#000000\">Reshape</text>\r\n",
       "</g>\r\n",
       "<!-- block5_pool/MaxPool&#45;&gt;flatten/Reshape -->\r\n",
       "<g id=\"edge1\" class=\"edge\"><title>block5_pool/MaxPool&#45;&gt;flatten/Reshape</title>\r\n",
       "<path fill=\"none\" stroke=\"#000000\" d=\"M42,-560.822C42,-550.19 42,-536.306 42,-524.204\"/>\r\n",
       "<polygon fill=\"#000000\" stroke=\"#000000\" points=\"45.5001,-524.153 42,-514.153 38.5001,-524.153 45.5001,-524.153\"/>\r\n",
       "<text text-anchor=\"middle\" x=\"64.5\" y=\"-535\" font-family=\"Times\" font-size=\"10.00\" fill=\"#000000\">?x1x1x512</text>\r\n",
       "</g>\r\n",
       "<!-- 11276668487116409881 -->\r\n",
       "<g id=\"node12\" class=\"node\"><title>11276668487116409881</title>\r\n",
       "<polygon fill=\"#e8e8e8\" stroke=\"#000000\" points=\"79,-431 5,-431 5,-395 79,-395 79,-431\"/>\r\n",
       "<text text-anchor=\"start\" x=\"13\" y=\"-410\" font-family=\"Times\" font-size=\"10.00\" fill=\"#000000\">Linear &gt; Relu</text>\r\n",
       "</g>\r\n",
       "<!-- flatten/Reshape&#45;&gt;11276668487116409881 -->\r\n",
       "<g id=\"edge4\" class=\"edge\"><title>flatten/Reshape&#45;&gt;11276668487116409881</title>\r\n",
       "<path fill=\"none\" stroke=\"#000000\" d=\"M42,-477.822C42,-467.19 42,-453.306 42,-441.204\"/>\r\n",
       "<polygon fill=\"#000000\" stroke=\"#000000\" points=\"45.5001,-441.153 42,-431.153 38.5001,-441.153 45.5001,-441.153\"/>\r\n",
       "<text text-anchor=\"middle\" x=\"54.5\" y=\"-452\" font-family=\"Times\" font-size=\"10.00\" fill=\"#000000\">?x512</text>\r\n",
       "</g>\r\n",
       "<!-- dense_2/MatMul -->\r\n",
       "<g id=\"node8\" class=\"node\"><title>dense_2/MatMul</title>\r\n",
       "<polygon fill=\"#e8e8e8\" stroke=\"#000000\" points=\"69,-119 15,-119 15,-83 69,-83 69,-119\"/>\r\n",
       "<text text-anchor=\"start\" x=\"29\" y=\"-98\" font-family=\"Times\" font-size=\"10.00\" fill=\"#000000\">Linear</text>\r\n",
       "</g>\r\n",
       "<!-- dense_2/Softmax -->\r\n",
       "<g id=\"node9\" class=\"node\"><title>dense_2/Softmax</title>\r\n",
       "<polygon fill=\"#e8e8e8\" stroke=\"#000000\" points=\"69,-36 15,-36 15,-0 69,-0 69,-36\"/>\r\n",
       "<text text-anchor=\"start\" x=\"24\" y=\"-15\" font-family=\"Times\" font-size=\"10.00\" fill=\"#000000\">Softmax</text>\r\n",
       "</g>\r\n",
       "<!-- dense_2/MatMul&#45;&gt;dense_2/Softmax -->\r\n",
       "<g id=\"edge2\" class=\"edge\"><title>dense_2/MatMul&#45;&gt;dense_2/Softmax</title>\r\n",
       "<path fill=\"none\" stroke=\"#000000\" d=\"M42,-82.822C42,-72.1903 42,-58.306 42,-46.2035\"/>\r\n",
       "<polygon fill=\"#000000\" stroke=\"#000000\" points=\"45.5001,-46.1532 42,-36.1533 38.5001,-46.1533 45.5001,-46.1532\"/>\r\n",
       "<text text-anchor=\"middle\" x=\"52\" y=\"-57\" font-family=\"Times\" font-size=\"10.00\" fill=\"#000000\">?x10</text>\r\n",
       "</g>\r\n",
       "<!-- dropout -->\r\n",
       "<g id=\"node10\" class=\"node\"><title>dropout</title>\r\n",
       "<polygon fill=\"#e8e8e8\" stroke=\"#000000\" points=\"69,-348 15,-348 15,-312 69,-312 69,-348\"/>\r\n",
       "<text text-anchor=\"start\" x=\"25\" y=\"-327\" font-family=\"Times\" font-size=\"10.00\" fill=\"#000000\">Dropout</text>\r\n",
       "</g>\r\n",
       "<!-- 14744023146770724126 -->\r\n",
       "<g id=\"node13\" class=\"node\"><title>14744023146770724126</title>\r\n",
       "<polygon fill=\"#e8e8e8\" stroke=\"#000000\" points=\"79,-275 5,-275 5,-239 79,-239 79,-275\"/>\r\n",
       "<text text-anchor=\"start\" x=\"13\" y=\"-254\" font-family=\"Times\" font-size=\"10.00\" fill=\"#000000\">Linear &gt; Relu</text>\r\n",
       "</g>\r\n",
       "<!-- dropout&#45;&gt;14744023146770724126 -->\r\n",
       "<g id=\"edge6\" class=\"edge\"><title>dropout&#45;&gt;14744023146770724126</title>\r\n",
       "<path fill=\"none\" stroke=\"#000000\" d=\"M42,-311.813C42,-303.789 42,-294.047 42,-285.069\"/>\r\n",
       "<polygon fill=\"#000000\" stroke=\"#000000\" points=\"45.5001,-285.029 42,-275.029 38.5001,-285.029 45.5001,-285.029\"/>\r\n",
       "</g>\r\n",
       "<!-- dropout_1 -->\r\n",
       "<g id=\"node11\" class=\"node\"><title>dropout_1</title>\r\n",
       "<polygon fill=\"#e8e8e8\" stroke=\"#000000\" points=\"69,-192 15,-192 15,-156 69,-156 69,-192\"/>\r\n",
       "<text text-anchor=\"start\" x=\"25\" y=\"-171\" font-family=\"Times\" font-size=\"10.00\" fill=\"#000000\">Dropout</text>\r\n",
       "</g>\r\n",
       "<!-- dropout_1&#45;&gt;dense_2/MatMul -->\r\n",
       "<g id=\"edge3\" class=\"edge\"><title>dropout_1&#45;&gt;dense_2/MatMul</title>\r\n",
       "<path fill=\"none\" stroke=\"#000000\" d=\"M42,-155.813C42,-147.789 42,-138.047 42,-129.069\"/>\r\n",
       "<polygon fill=\"#000000\" stroke=\"#000000\" points=\"45.5001,-129.029 42,-119.029 38.5001,-129.029 45.5001,-129.029\"/>\r\n",
       "</g>\r\n",
       "<!-- 11276668487116409881&#45;&gt;dropout -->\r\n",
       "<g id=\"edge5\" class=\"edge\"><title>11276668487116409881&#45;&gt;dropout</title>\r\n",
       "<path fill=\"none\" stroke=\"#000000\" d=\"M42,-394.822C42,-384.19 42,-370.306 42,-358.204\"/>\r\n",
       "<polygon fill=\"#000000\" stroke=\"#000000\" points=\"45.5001,-358.153 42,-348.153 38.5001,-358.153 45.5001,-358.153\"/>\r\n",
       "<text text-anchor=\"middle\" x=\"54.5\" y=\"-369\" font-family=\"Times\" font-size=\"10.00\" fill=\"#000000\">?x512</text>\r\n",
       "</g>\r\n",
       "<!-- 14744023146770724126&#45;&gt;dropout_1 -->\r\n",
       "<g id=\"edge7\" class=\"edge\"><title>14744023146770724126&#45;&gt;dropout_1</title>\r\n",
       "<path fill=\"none\" stroke=\"#000000\" d=\"M42,-238.822C42,-228.19 42,-214.306 42,-202.204\"/>\r\n",
       "<polygon fill=\"#000000\" stroke=\"#000000\" points=\"45.5001,-202.153 42,-192.153 38.5001,-202.153 45.5001,-202.153\"/>\r\n",
       "<text text-anchor=\"middle\" x=\"54.5\" y=\"-213\" font-family=\"Times\" font-size=\"10.00\" fill=\"#000000\">?x512</text>\r\n",
       "</g>\r\n",
       "<!-- 8490057381621808717&#45;&gt;block1_pool/MaxPool -->\r\n",
       "<g id=\"edge9\" class=\"edge\"><title>8490057381621808717&#45;&gt;block1_pool/MaxPool</title>\r\n",
       "<path fill=\"none\" stroke=\"#000000\" d=\"M42,-1339.99C42,-1328.92 42,-1315.22 42,-1303.34\"/>\r\n",
       "<polygon fill=\"#000000\" stroke=\"#000000\" points=\"45.5001,-1303.06 42,-1293.06 38.5001,-1303.06 45.5001,-1303.06\"/>\r\n",
       "<text text-anchor=\"middle\" x=\"67\" y=\"-1314\" font-family=\"Times\" font-size=\"10.00\" fill=\"#000000\">?x48x48x64</text>\r\n",
       "</g>\r\n",
       "<!-- 2045678872943866023&#45;&gt;block2_pool/MaxPool -->\r\n",
       "<g id=\"edge11\" class=\"edge\"><title>2045678872943866023&#45;&gt;block2_pool/MaxPool</title>\r\n",
       "<path fill=\"none\" stroke=\"#000000\" d=\"M42,-1165.99C42,-1154.92 42,-1141.22 42,-1129.34\"/>\r\n",
       "<polygon fill=\"#000000\" stroke=\"#000000\" points=\"45.5001,-1129.06 42,-1119.06 38.5001,-1129.06 45.5001,-1129.06\"/>\r\n",
       "<text text-anchor=\"middle\" x=\"69.5\" y=\"-1140\" font-family=\"Times\" font-size=\"10.00\" fill=\"#000000\">?x24x24x128</text>\r\n",
       "</g>\r\n",
       "<!-- 9225943956533598718&#45;&gt;block3_pool/MaxPool -->\r\n",
       "<g id=\"edge13\" class=\"edge\"><title>9225943956533598718&#45;&gt;block3_pool/MaxPool</title>\r\n",
       "<path fill=\"none\" stroke=\"#000000\" d=\"M42,-991.989C42,-980.923 42,-967.219 42,-955.336\"/>\r\n",
       "<polygon fill=\"#000000\" stroke=\"#000000\" points=\"45.5001,-955.062 42,-945.062 38.5001,-955.062 45.5001,-955.062\"/>\r\n",
       "<text text-anchor=\"middle\" x=\"69.5\" y=\"-966\" font-family=\"Times\" font-size=\"10.00\" fill=\"#000000\">?x12x12x256</text>\r\n",
       "</g>\r\n",
       "<!-- 8308197600167350862&#45;&gt;block4_pool/MaxPool -->\r\n",
       "<g id=\"edge15\" class=\"edge\"><title>8308197600167350862&#45;&gt;block4_pool/MaxPool</title>\r\n",
       "<path fill=\"none\" stroke=\"#000000\" d=\"M42,-817.989C42,-806.923 42,-793.219 42,-781.336\"/>\r\n",
       "<polygon fill=\"#000000\" stroke=\"#000000\" points=\"45.5001,-781.062 42,-771.062 38.5001,-781.062 45.5001,-781.062\"/>\r\n",
       "<text text-anchor=\"middle\" x=\"64.5\" y=\"-792\" font-family=\"Times\" font-size=\"10.00\" fill=\"#000000\">?x6x6x512</text>\r\n",
       "</g>\r\n",
       "<!-- 886015063576402234&#45;&gt;block5_pool/MaxPool -->\r\n",
       "<g id=\"edge17\" class=\"edge\"><title>886015063576402234&#45;&gt;block5_pool/MaxPool</title>\r\n",
       "<path fill=\"none\" stroke=\"#000000\" d=\"M42,-643.989C42,-632.923 42,-619.219 42,-607.336\"/>\r\n",
       "<polygon fill=\"#000000\" stroke=\"#000000\" points=\"45.5001,-607.062 42,-597.062 38.5001,-607.062 45.5001,-607.062\"/>\r\n",
       "<text text-anchor=\"middle\" x=\"64.5\" y=\"-618\" font-family=\"Times\" font-size=\"10.00\" fill=\"#000000\">?x3x3x512</text>\r\n",
       "</g>\r\n",
       "</g>\r\n",
       "</svg>\r\n"
      ],
      "text/plain": [
       "<hiddenlayer.graph.Graph at 0x1a40d2cfb00>"
      ]
     },
     "execution_count": 16,
     "metadata": {},
     "output_type": "execute_result"
    }
   ],
   "source": [
    "# Visual check of the \"after\" model architecture using HiddenLayer\n",
    "hl_graph = hl.build_graph(K.get_session().graph)\n",
    "hl_graph"
   ]
  },
  {
   "cell_type": "markdown",
   "metadata": {},
   "source": [
    "## Create a custom callback to compute and visualize a confusion matrix"
   ]
  },
  {
   "cell_type": "code",
   "execution_count": 17,
   "metadata": {},
   "outputs": [],
   "source": [
    "class ConfusionMatrixCanvas(hl.Canvas):\n",
    "    \"\"\"Extending HiddenLayer's Canvas to plot a confusion matrix.\"\"\"\n",
    "\n",
    "    def __init__(self, classes, normalize=False, title='Confusion matrix'):\n",
    "        \"\"\"Normalization can be applied by setting 'normalize=True'.\n",
    "        \"\"\"\n",
    "        super().__init__()\n",
    "        self.classes = range(0, classes)\n",
    "        self.normalize = normalize\n",
    "        self.title = title\n",
    "    \n",
    "    def draw_confusion_matrix(self, metric):\n",
    "        \"\"\"This function plots the confusion matrix.\n",
    "        Ref:\n",
    "            https://scikit-learn.org/stable/auto_examples/model_selection/plot_confusion_matrix.html\n",
    "        \"\"\"\n",
    "        # Normalize confusion matrix, if requested, and set numbers display format\n",
    "        cm = metric.data[-1]\n",
    "        if self.normalize:\n",
    "            cm = cm.astype('float') / cm.sum(axis=1)[:, np.newaxis]\n",
    "            fmt = '.2f'\n",
    "        else:\n",
    "            fmt = 'd'\n",
    "\n",
    "        # Build the plot\n",
    "        self.ax.axis('equal')  \n",
    "        plt.imshow(cm, interpolation='nearest', cmap=plt.cm.Blues)\n",
    "        plt.title(self.title)\n",
    "        # plt.colorbar()\n",
    "        tick_marks = np.arange(len(self.classes))\n",
    "        plt.xticks(tick_marks, self.classes, rotation=45)\n",
    "        plt.yticks(tick_marks, self.classes)\n",
    "\n",
    "        thresh = cm.max() / 2.\n",
    "        for i, j in itertools.product(range(cm.shape[0]), range(cm.shape[1])):\n",
    "            plt.text(j, i, format(cm[i, j], fmt),\n",
    "                     horizontalalignment=\"center\",\n",
    "                     color=\"white\" if cm[i, j] > thresh else \"black\")\n",
    "\n",
    "        plt.ylabel('True label')\n",
    "        plt.xlabel('Predicted label')\n",
    "        plt.tight_layout()\n",
    "        \n",
    "class ConfusionMatrixHistory(Callback):\n",
    "    \"\"\"Extending Keras' Callback to compute a confusion matrix.\"\"\"\n",
    "    \n",
    "    def __init__(self, x_val, y_val, train_size, y_classes):\n",
    "        # Keep a reference to the validation data\n",
    "        self.x_val = x_val\n",
    "        self.y_val = [np.argmax(y) for y in y_val]\n",
    "        self.train_size = train_size\n",
    "        \n",
    "        # Use a HiddenLayer History object to store metrics\n",
    "        self.history = hl.History()\n",
    "\n",
    "        # Use our custom HiddenLayer Canvas object to draw the metrics\n",
    "        self.canvas = ConfusionMatrixCanvas(y_classes)        \n",
    "        \n",
    "    def on_train_begin(self, logs={}):\n",
    "        self.acc, self.val_acc, self.val_cm = [], [], []\n",
    "        self.epoch = 0\n",
    "        print('Train on {} samples, validate on {} samples...'.format(self.train_size, self.x_val.shape[0]))\n",
    "              \n",
    "    def on_epoch_end(self, batch, logs={}):\n",
    "        # Generate predictions for validation data\n",
    "        y_val_hat = self.model.predict(self.x_val)\n",
    "        y_val_hat = [np.argmax(y) for y in y_val_hat]\n",
    "              \n",
    "        # Compute the accuracy and generate a confusion matrix using the validation data\n",
    "        val_acc = accuracy_score(self.y_val, y_val_hat)\n",
    "        cm = confusion_matrix(self.y_val, y_val_hat)\n",
    "              \n",
    "        # Store the metrics in the history object\n",
    "        self.history.log(self.epoch, acc=logs.get('acc'), val_acc=val_acc, cm=cm)\n",
    "              \n",
    "        # Plot the metrics\n",
    "        with self.canvas:\n",
    "            # self.canvas.draw_cm([self.history[\"acc\"], self.history[\"cm\"]])\n",
    "            self.canvas.draw_confusion_matrix(self.history[\"cm\"])\n",
    "            self.canvas.draw_plot([self.history[\"acc\"], self.history[\"val_acc\"]])\n",
    "              \n",
    "        # Onto the next epoch...\n",
    "        self.epoch += 1\n",
    "\n",
    "callbacks = [ConfusionMatrixHistory(x_val, y_val, x_train.shape[0], y_classes)]"
   ]
  },
  {
   "cell_type": "markdown",
   "metadata": {},
   "source": [
    "## Compile the model so we'll only train the classifier head"
   ]
  },
  {
   "cell_type": "code",
   "execution_count": 18,
   "metadata": {},
   "outputs": [],
   "source": [
    "# Since we only want to use the convnet as a feature extractor, \n",
    "# freeze the convnet layers and only train the classifier head\n",
    "for layer in convnet.layers:\n",
    "    layer.trainable = False"
   ]
  },
  {
   "cell_type": "code",
   "execution_count": 19,
   "metadata": {},
   "outputs": [],
   "source": [
    "# Compile the model using the Adam optimizer\n",
    "model.compile(loss='categorical_crossentropy', optimizer=Adam(base_lr), metrics=['acc'])"
   ]
  },
  {
   "cell_type": "markdown",
   "metadata": {},
   "source": [
    "## Train the model"
   ]
  },
  {
   "cell_type": "code",
   "execution_count": 20,
   "metadata": {
    "scrolled": false
   },
   "outputs": [
    {
     "data": {
      "image/png": "[encoded data removed]",
      "text/plain": [
       "<Figure size 864x576 with 2 Axes>"
      ]
     },
     "metadata": {},
     "output_type": "display_data"
    }
   ],
   "source": [
    "# Train the the model\n",
    "history = model.fit(x_train, y_train, batch_size, num_epochs, verbose=0, callbacks=callbacks)"
   ]
  }
 ],
 "metadata": {
  "kernelspec": {
   "display_name": "Python 3",
   "language": "python",
   "name": "python3"
  },
  "language_info": {
   "codemirror_mode": {
    "name": "ipython",
    "version": 3
   },
   "file_extension": ".py",
   "mimetype": "text/x-python",
   "name": "python",
   "nbconvert_exporter": "python",
   "pygments_lexer": "ipython3",
   "version": "3.6.5"
  },
  "toc": {
   "base_numbering": 1,
   "nav_menu": {},
   "number_sections": true,
   "sideBar": true,
   "skip_h1_title": false,
   "title_cell": "Table of Contents",
   "title_sidebar": "Contents",
   "toc_cell": false,
   "toc_position": {},
   "toc_section_display": true,
   "toc_window_display": false
  }
 },
 "nbformat": 4,
 "nbformat_minor": 2
}
