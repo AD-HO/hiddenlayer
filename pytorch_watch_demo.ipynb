{
 "cells": [
  {
   "cell_type": "markdown",
   "metadata": {},
   "source": [
    "# WeightWatcher demo (PyTorch)"
   ]
  },
  {
   "cell_type": "code",
   "execution_count": 1,
   "metadata": {},
   "outputs": [],
   "source": [
    "# Requires PyTorch 0.4\n",
    "import torch\n",
    "import torchvision.models\n",
    "import torch.nn as nn\n",
    "from torchvision import datasets, transforms\n",
    "from distutils.version import LooseVersion\n",
    "assert LooseVersion(torch.__version__) >= LooseVersion(\"0.4\")\n",
    "\n",
    "import numpy as np\n",
    "\n",
    "from ww import builder_pytorch, watcher"
   ]
  },
  {
   "cell_type": "code",
   "execution_count": 2,
   "metadata": {},
   "outputs": [],
   "source": [
    "%load_ext autoreload\n",
    "%autoreload 2"
   ]
  },
  {
   "cell_type": "markdown",
   "metadata": {},
   "source": [
    "## Visualize Training Progress"
   ]
  },
  {
   "cell_type": "code",
   "execution_count": 3,
   "metadata": {
    "scrolled": false
   },
   "outputs": [
    {
     "name": "stdout",
     "output_type": "stream",
     "text": [
      "Files already downloaded and verified\n",
      "Files already downloaded and verified\n",
      "train_dataset.data\tTensor  uint8 (50000, 32, 32, 3)  min: 0.000  max: 255.000\n",
      "train_dataset.labels\tlist    len: 50000  [6, 9, 9, 4, 1, 1, 2, 7, 8, 3, 4, 7, 7, 2, 9, 9, 9, 3, 2, 6, 4, 3, 6, 6, 2, 6, 3, 5, 4, 0, 0, 9, 1, 3, 4, 0, 3, 7, 3, 3, 5, 2, 2, 7, 1, 1, 1, 2, 2, 0]\n",
      "test_dataset.data\tTensor  uint8 (10000, 32, 32, 3)  min: 0.000  max: 255.000\n",
      "test_dataset.labels\tlist    len: 10000  [3, 8, 8, 0, 6, 6, 1, 6, 3, 1, 0, 9, 5, 7, 9, 8, 5, 7, 8, 6, 7, 0, 4, 9, 5, 2, 4, 0, 9, 6, 6, 5, 4, 5, 9, 2, 4, 1, 9, 5, 4, 6, 5, 6, 0, 9, 3, 9, 7, 6]\n"
     ]
    }
   ],
   "source": [
    "# CIFAR10 Dataset\n",
    "t = transforms.Compose([transforms.ToTensor()])\n",
    "train_dataset = datasets.CIFAR10('datasets', train=True, download=True, transform=t)\n",
    "test_dataset = datasets.CIFAR10('datasets', train=False, download=True, transform=t)\n",
    "\n",
    "train_loader = torch.utils.data.DataLoader(train_dataset, batch_size=50, shuffle=True)\n",
    "testloader = torch.utils.data.DataLoader(test_dataset, batch_size=50, shuffle=True)\n",
    "\n",
    "watcher.show(\"train_dataset.data\", train_dataset.train_data)\n",
    "watcher.show(\"train_dataset.labels\", train_dataset.train_labels)\n",
    "watcher.show(\"test_dataset.data\", test_dataset.test_data)\n",
    "watcher.show(\"test_dataset.labels\", test_dataset.test_labels)"
   ]
  },
  {
   "cell_type": "code",
   "execution_count": 4,
   "metadata": {},
   "outputs": [],
   "source": [
    "# TODO: Moving model to GPU breaks grph drawing. Investigate\n",
    "# device = torch.device(\"cuda:0\" if torch.cuda.is_available() else \"cpu\")\n",
    "device = \"cpu\"\n",
    "\n",
    "# Simple Convolutional Network\n",
    "class CifarModel(nn.Module):\n",
    "    def __init__(self):\n",
    "        super(CifarModel, self).__init__()\n",
    "        \n",
    "        self.features = nn.Sequential(\n",
    "            nn.Conv2d(3, 16, kernel_size=3, padding=1),\n",
    "            nn.BatchNorm2d(16),\n",
    "            nn.ReLU(),\n",
    "            nn.Conv2d(16, 16, kernel_size=3, padding=1),\n",
    "            nn.BatchNorm2d(16),\n",
    "            nn.ReLU(),\n",
    "            nn.MaxPool2d(2, 2),\n",
    "\n",
    "            nn.Conv2d(16, 32, kernel_size=3, padding=1),\n",
    "            nn.BatchNorm2d(32),\n",
    "            nn.ReLU(),\n",
    "            nn.Conv2d(32, 32, kernel_size=3, padding=1),\n",
    "            nn.BatchNorm2d(32),\n",
    "            nn.ReLU(),\n",
    "            nn.MaxPool2d(2, 2),\n",
    "\n",
    "            nn.Conv2d(32, 32, kernel_size=3, padding=1),\n",
    "            nn.BatchNorm2d(32),\n",
    "            nn.ReLU(),\n",
    "            nn.Conv2d(32, 32, kernel_size=3, padding=1),\n",
    "            nn.BatchNorm2d(32),\n",
    "            nn.ReLU(),\n",
    "            \n",
    "            nn.AdaptiveMaxPool2d(1)\n",
    "        )\n",
    "        self.classifier = nn.Sequential(\n",
    "            nn.Linear(32, 32),\n",
    "#             nn.BatchNorm2d(32),\n",
    "            nn.ReLU(),\n",
    "            nn.Linear(32, 10))\n",
    "\n",
    "    def forward(self, x):\n",
    "        x = self.features(x)\n",
    "        x = x.view(x.size(0), -1)\n",
    "        x = self.classifier(x)\n",
    "        return x\n",
    "\n",
    "model = CifarModel().to(device)\n",
    "\n",
    "criterion = torch.nn.CrossEntropyLoss()\n",
    "optimizer = torch.optim.SGD(model.parameters(), lr=0.01, momentum=0.9)"
   ]
  },
  {
   "cell_type": "code",
   "execution_count": 5,
   "metadata": {
    "scrolled": false
   },
   "outputs": [
    {
     "name": "stderr",
     "output_type": "stream",
     "text": [
      "e:\\toolkits.win\\anaconda3-5.1.0\\envs\\dlwin36torch\\lib\\site-packages\\torch\\onnx\\utils.py:365: UserWarning: ONNX export failed on ATen operator adaptive_max_pool2d because torch.onnx.symbolic.adaptive_max_pool2d does not exist\n",
      "  .format(op_name, op_name))\n"
     ]
    },
    {
     "data": {
      "image/svg+xml": [
       "<?xml version=\"1.0\" encoding=\"UTF-8\" standalone=\"no\"?>\r\n",
       "<!DOCTYPE svg PUBLIC \"-//W3C//DTD SVG 1.1//EN\"\r\n",
       " \"http://www.w3.org/Graphics/SVG/1.1/DTD/svg11.dtd\">\r\n",
       "<!-- Generated by graphviz version 2.38.0 (20140413.2041)\r\n",
       " -->\r\n",
       "<!-- Title: %3 Pages: 1 -->\r\n",
       "<svg width=\"187pt\" height=\"668pt\"\r\n",
       " viewBox=\"0.00 0.00 187.00 668.00\" xmlns=\"http://www.w3.org/2000/svg\" xmlns:xlink=\"http://www.w3.org/1999/xlink\">\r\n",
       "<g id=\"graph0\" class=\"graph\" transform=\"scale(1 1) rotate(0) translate(4 664)\">\r\n",
       "<title>%3</title>\r\n",
       "<polygon fill=\"white\" stroke=\"none\" points=\"-4,4 -4,-664 183,-664 183,4 -4,4\"/>\r\n",
       "<!-- CifarModel/Sequential[features]/MaxPool2d[6]/outputs/55 -->\r\n",
       "<g id=\"node1\" class=\"node\"><title>CifarModel/Sequential[features]/MaxPool2d[6]/outputs/55</title>\r\n",
       "<polygon fill=\"#f0f0f0\" stroke=\"#4080a0\" points=\"135,-572 44,-572 44,-536 135,-536 135,-572\"/>\r\n",
       "<text text-anchor=\"start\" x=\"56.5\" y=\"-552\" font-family=\"Verdana\" font-weight=\"bold\" font-size=\"10.00\" fill=\"#204050\">MaxPool2x2</text>\r\n",
       "</g>\r\n",
       "<!-- 3056511089963868475 -->\r\n",
       "<g id=\"node8\" class=\"node\"><title>3056511089963868475</title>\r\n",
       "<polygon fill=\"#f0f0f0\" stroke=\"#4080a0\" points=\"174.5,-500 4.5,-500 4.5,-448 174.5,-448 174.5,-500\"/>\r\n",
       "<text text-anchor=\"start\" x=\"16.5\" y=\"-481\" font-family=\"Verdana\" font-weight=\"bold\" font-size=\"10.00\" fill=\"#204050\">Conv3x3/BatchNorm/Relu</text>\r\n",
       "<text text-anchor=\"start\" x=\"158.5\" y=\"-455\" font-family=\"Verdana\" font-size=\"10.00\" fill=\"#204050\">x2</text>\r\n",
       "</g>\r\n",
       "<!-- CifarModel/Sequential[features]/MaxPool2d[6]/outputs/55&#45;&gt;3056511089963868475 -->\r\n",
       "<g id=\"edge5\" class=\"edge\"><title>CifarModel/Sequential[features]/MaxPool2d[6]/outputs/55&#45;&gt;3056511089963868475</title>\r\n",
       "<path fill=\"none\" stroke=\"#4080a0\" d=\"M89.5,-535.847C89.5,-535.847 89.5,-510.275 89.5,-510.275\"/>\r\n",
       "<polygon fill=\"#4080a0\" stroke=\"#4080a0\" points=\"93.0001,-510.275 89.5,-500.275 86.0001,-510.275 93.0001,-510.275\"/>\r\n",
       "</g>\r\n",
       "<!-- CifarModel/Sequential[features]/MaxPool2d[13]/outputs/70 -->\r\n",
       "<g id=\"node2\" class=\"node\"><title>CifarModel/Sequential[features]/MaxPool2d[13]/outputs/70</title>\r\n",
       "<polygon fill=\"#f0f0f0\" stroke=\"#4080a0\" points=\"135,-412 44,-412 44,-376 135,-376 135,-412\"/>\r\n",
       "<text text-anchor=\"start\" x=\"56.5\" y=\"-392\" font-family=\"Verdana\" font-weight=\"bold\" font-size=\"10.00\" fill=\"#204050\">MaxPool2x2</text>\r\n",
       "</g>\r\n",
       "<!-- 4595575753827622322 -->\r\n",
       "<g id=\"node9\" class=\"node\"><title>4595575753827622322</title>\r\n",
       "<polygon fill=\"#f0f0f0\" stroke=\"#4080a0\" points=\"174.5,-340 4.5,-340 4.5,-288 174.5,-288 174.5,-340\"/>\r\n",
       "<text text-anchor=\"start\" x=\"16.5\" y=\"-321\" font-family=\"Verdana\" font-weight=\"bold\" font-size=\"10.00\" fill=\"#204050\">Conv3x3/BatchNorm/Relu</text>\r\n",
       "<text text-anchor=\"start\" x=\"158.5\" y=\"-295\" font-family=\"Verdana\" font-size=\"10.00\" fill=\"#204050\">x2</text>\r\n",
       "</g>\r\n",
       "<!-- CifarModel/Sequential[features]/MaxPool2d[13]/outputs/70&#45;&gt;4595575753827622322 -->\r\n",
       "<g id=\"edge7\" class=\"edge\"><title>CifarModel/Sequential[features]/MaxPool2d[13]/outputs/70&#45;&gt;4595575753827622322</title>\r\n",
       "<path fill=\"none\" stroke=\"#4080a0\" d=\"M89.5,-375.847C89.5,-375.847 89.5,-350.275 89.5,-350.275\"/>\r\n",
       "<polygon fill=\"#4080a0\" stroke=\"#4080a0\" points=\"93.0001,-350.275 89.5,-340.275 86.0001,-350.275 93.0001,-350.275\"/>\r\n",
       "</g>\r\n",
       "<!-- CifarModel/Sequential[features]/AdaptiveMaxPool2d[20]/outputs/85/86 -->\r\n",
       "<g id=\"node3\" class=\"node\"><title>CifarModel/Sequential[features]/AdaptiveMaxPool2d[20]/outputs/85/86</title>\r\n",
       "<polygon fill=\"#f0f0f0\" stroke=\"#4080a0\" points=\"179,-252 0,-252 0,-216 179,-216 179,-252\"/>\r\n",
       "<text text-anchor=\"start\" x=\"12.5\" y=\"-232\" font-family=\"Verdana\" font-weight=\"bold\" font-size=\"10.00\" fill=\"#204050\">aten::adaptive_max_pool2d</text>\r\n",
       "</g>\r\n",
       "<!-- CifarModel/outputs/87 -->\r\n",
       "<g id=\"node4\" class=\"node\"><title>CifarModel/outputs/87</title>\r\n",
       "<polygon fill=\"#f0f0f0\" stroke=\"#4080a0\" points=\"121.5,-180 57.5,-180 57.5,-144 121.5,-144 121.5,-180\"/>\r\n",
       "<text text-anchor=\"start\" x=\"69.5\" y=\"-160\" font-family=\"Verdana\" font-weight=\"bold\" font-size=\"10.00\" fill=\"#204050\">Flatten</text>\r\n",
       "</g>\r\n",
       "<!-- CifarModel/Sequential[features]/AdaptiveMaxPool2d[20]/outputs/85/86&#45;&gt;CifarModel/outputs/87 -->\r\n",
       "<g id=\"edge1\" class=\"edge\"><title>CifarModel/Sequential[features]/AdaptiveMaxPool2d[20]/outputs/85/86&#45;&gt;CifarModel/outputs/87</title>\r\n",
       "<path fill=\"none\" stroke=\"#4080a0\" d=\"M89.5,-215.831C89.5,-215.831 89.5,-190.413 89.5,-190.413\"/>\r\n",
       "<polygon fill=\"#4080a0\" stroke=\"#4080a0\" points=\"93.0001,-190.413 89.5,-180.413 86.0001,-190.413 93.0001,-190.413\"/>\r\n",
       "</g>\r\n",
       "<!-- 9771752020847811041 -->\r\n",
       "<g id=\"node6\" class=\"node\"><title>9771752020847811041</title>\r\n",
       "<polygon fill=\"#f0f0f0\" stroke=\"#4080a0\" points=\"133.5,-108 45.5,-108 45.5,-72 133.5,-72 133.5,-108\"/>\r\n",
       "<text text-anchor=\"start\" x=\"57.5\" y=\"-88\" font-family=\"Verdana\" font-weight=\"bold\" font-size=\"10.00\" fill=\"#204050\">Linear/Relu</text>\r\n",
       "</g>\r\n",
       "<!-- CifarModel/outputs/87&#45;&gt;9771752020847811041 -->\r\n",
       "<g id=\"edge2\" class=\"edge\"><title>CifarModel/outputs/87&#45;&gt;9771752020847811041</title>\r\n",
       "<path fill=\"none\" stroke=\"#4080a0\" d=\"M89.5,-143.831C89.5,-143.831 89.5,-118.413 89.5,-118.413\"/>\r\n",
       "<polygon fill=\"#4080a0\" stroke=\"#4080a0\" points=\"93.0001,-118.413 89.5,-108.413 86.0001,-118.413 93.0001,-118.413\"/>\r\n",
       "</g>\r\n",
       "<!-- 11468656355531351541 -->\r\n",
       "<g id=\"node5\" class=\"node\"><title>11468656355531351541</title>\r\n",
       "<polygon fill=\"#f0f0f0\" stroke=\"#4080a0\" points=\"118.5,-36 60.5,-36 60.5,-0 118.5,-0 118.5,-36\"/>\r\n",
       "<text text-anchor=\"start\" x=\"72.5\" y=\"-16\" font-family=\"Verdana\" font-weight=\"bold\" font-size=\"10.00\" fill=\"#204050\">Linear</text>\r\n",
       "</g>\r\n",
       "<!-- 9771752020847811041&#45;&gt;11468656355531351541 -->\r\n",
       "<g id=\"edge3\" class=\"edge\"><title>9771752020847811041&#45;&gt;11468656355531351541</title>\r\n",
       "<path fill=\"none\" stroke=\"#4080a0\" d=\"M89.5,-71.8314C89.5,-71.8314 89.5,-46.4133 89.5,-46.4133\"/>\r\n",
       "<polygon fill=\"#4080a0\" stroke=\"#4080a0\" points=\"93.0001,-46.4132 89.5,-36.4133 86.0001,-46.4133 93.0001,-46.4132\"/>\r\n",
       "</g>\r\n",
       "<!-- 16739388153893046964 -->\r\n",
       "<g id=\"node7\" class=\"node\"><title>16739388153893046964</title>\r\n",
       "<polygon fill=\"#f0f0f0\" stroke=\"#4080a0\" points=\"174.5,-660 4.5,-660 4.5,-608 174.5,-608 174.5,-660\"/>\r\n",
       "<text text-anchor=\"start\" x=\"16.5\" y=\"-641\" font-family=\"Verdana\" font-weight=\"bold\" font-size=\"10.00\" fill=\"#204050\">Conv3x3/BatchNorm/Relu</text>\r\n",
       "<text text-anchor=\"start\" x=\"158.5\" y=\"-615\" font-family=\"Verdana\" font-size=\"10.00\" fill=\"#204050\">x2</text>\r\n",
       "</g>\r\n",
       "<!-- 16739388153893046964&#45;&gt;CifarModel/Sequential[features]/MaxPool2d[6]/outputs/55 -->\r\n",
       "<g id=\"edge4\" class=\"edge\"><title>16739388153893046964&#45;&gt;CifarModel/Sequential[features]/MaxPool2d[6]/outputs/55</title>\r\n",
       "<path fill=\"none\" stroke=\"#4080a0\" d=\"M89.5,-607.805C89.5,-607.805 89.5,-582.153 89.5,-582.153\"/>\r\n",
       "<polygon fill=\"#4080a0\" stroke=\"#4080a0\" points=\"93.0001,-582.153 89.5,-572.153 86.0001,-582.153 93.0001,-582.153\"/>\r\n",
       "</g>\r\n",
       "<!-- 3056511089963868475&#45;&gt;CifarModel/Sequential[features]/MaxPool2d[13]/outputs/70 -->\r\n",
       "<g id=\"edge6\" class=\"edge\"><title>3056511089963868475&#45;&gt;CifarModel/Sequential[features]/MaxPool2d[13]/outputs/70</title>\r\n",
       "<path fill=\"none\" stroke=\"#4080a0\" d=\"M89.5,-447.805C89.5,-447.805 89.5,-422.153 89.5,-422.153\"/>\r\n",
       "<polygon fill=\"#4080a0\" stroke=\"#4080a0\" points=\"93.0001,-422.153 89.5,-412.153 86.0001,-422.153 93.0001,-422.153\"/>\r\n",
       "</g>\r\n",
       "<!-- 4595575753827622322&#45;&gt;CifarModel/Sequential[features]/AdaptiveMaxPool2d[20]/outputs/85/86 -->\r\n",
       "<g id=\"edge8\" class=\"edge\"><title>4595575753827622322&#45;&gt;CifarModel/Sequential[features]/AdaptiveMaxPool2d[20]/outputs/85/86</title>\r\n",
       "<path fill=\"none\" stroke=\"#4080a0\" d=\"M89.5,-287.805C89.5,-287.805 89.5,-262.153 89.5,-262.153\"/>\r\n",
       "<polygon fill=\"#4080a0\" stroke=\"#4080a0\" points=\"93.0001,-262.153 89.5,-252.153 86.0001,-262.153 93.0001,-262.153\"/>\r\n",
       "</g>\r\n",
       "</g>\r\n",
       "</svg>\r\n"
      ],
      "text/plain": [
       "<graphviz.dot.Digraph at 0x211cd92be48>"
      ]
     },
     "execution_count": 5,
     "metadata": {},
     "output_type": "execute_result"
    }
   ],
   "source": [
    "dg = builder_pytorch.build_pytorch_graph(model, torch.zeros([1, 3, 32, 32]), verbose=False)\n",
    "dg.draw_graph_html(simplify=True, output_shapes=False, verbose=False)"
   ]
  },
  {
   "cell_type": "code",
   "execution_count": 6,
   "metadata": {},
   "outputs": [],
   "source": [
    "step = 0\n",
    "w = watcher.Watcher()\n",
    "\n",
    "# Visual customizations\n",
    "w.legend={\"loss\": \"Training Loss\",\n",
    "          \"accuracy\": \"Training Accuracy\"}"
   ]
  },
  {
   "cell_type": "code",
   "execution_count": 7,
   "metadata": {
    "scrolled": false
   },
   "outputs": [
    {
     "data": {
      "image/png": "[encoded data removed]",
      "text/plain": [
       "<Figure size 864x576 with 2 Axes>"
      ]
     },
     "metadata": {},
     "output_type": "display_data"
    }
   ],
   "source": [
    "# Training loop\n",
    "for epoch in range(2):\n",
    "    train_iter = iter(train_loader)\n",
    "    for inputs, labels in train_iter:\n",
    "        optimizer.zero_grad()\n",
    "        inputs = inputs.to(device)\n",
    "        labels = labels.to(device)\n",
    "\n",
    "        # forward + backward + optimize\n",
    "        outputs = model(inputs)\n",
    "        loss = criterion(outputs, labels)\n",
    "        loss.backward()\n",
    "        optimizer.step()\n",
    "\n",
    "        # print statistics\n",
    "        if step and step % 100 == 0:\n",
    "            # Compute accuracy\n",
    "            pred_labels = np.argmax(outputs.detach().numpy(), 1)\n",
    "            accuracy = np.mean(pred_labels == labels.detach().numpy())\n",
    "            \n",
    "            w.step(step, loss=loss, accuracy=accuracy)\n",
    "            with w:\n",
    "                w.plot([\"loss\"])\n",
    "                w.plot([\"accuracy\"])\n",
    "        step += 1\n"
   ]
  }
 ],
 "metadata": {
  "kernelspec": {
   "display_name": "Python 3",
   "language": "python",
   "name": "python3"
  },
  "language_info": {
   "codemirror_mode": {
    "name": "ipython",
    "version": 3
   },
   "file_extension": ".py",
   "mimetype": "text/x-python",
   "name": "python",
   "nbconvert_exporter": "python",
   "pygments_lexer": "ipython3",
   "version": "3.6.5"
  }
 },
 "nbformat": 4,
 "nbformat_minor": 2
}
